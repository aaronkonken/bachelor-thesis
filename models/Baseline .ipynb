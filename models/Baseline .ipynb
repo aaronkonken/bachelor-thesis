{
 "cells": [
  {
   "cell_type": "code",
   "execution_count": 1,
   "id": "5a54cc7c",
   "metadata": {},
   "outputs": [],
   "source": [
    "import pandas as pd\n",
    "import numpy as np"
   ]
  },
  {
   "cell_type": "code",
   "execution_count": 2,
   "id": "d42cb844",
   "metadata": {},
   "outputs": [],
   "source": [
    "train_indices = np.load('train_combinations.npy', allow_pickle=True)\n",
    "val_indices = np.load('val_combinations.npy', allow_pickle=True)\n",
    "test_indices = np.load('test_combinations.npy', allow_pickle=True)"
   ]
  },
  {
   "cell_type": "code",
   "execution_count": 3,
   "id": "b33b7827",
   "metadata": {},
   "outputs": [],
   "source": [
    "df_inflation = pd.read_excel('Teuerungsrate_2023_2024.xlsx')\n",
    "df_inflation['month'] = df_inflation['month'].astype(str)\n",
    "df_inflation['month'] = df_inflation['month'].apply(lambda x: '0' + x if len(x.split('.')[0]) == 1 else x)"
   ]
  },
  {
   "cell_type": "markdown",
   "id": "5f429bf0",
   "metadata": {},
   "source": [
    "**No Shift**"
   ]
  },
  {
   "cell_type": "code",
   "execution_count": 4,
   "id": "d55d5c49",
   "metadata": {},
   "outputs": [],
   "source": [
    "datei_pfad = '../data/no_shift_forecasting.csv'\n",
    "df_no = pd.read_csv(datei_pfad)\n",
    "df_no = df_no[['date', 'filiale_baeckerei', 'revenuePY+2', 'revenue+2']]"
   ]
  },
  {
   "cell_type": "code",
   "execution_count": 5,
   "id": "19c2ebe1",
   "metadata": {},
   "outputs": [],
   "source": [
    "# Erstellen der Test-, Train- und Validation-Sets durch Filtern\n",
    "train_df_no = df_no[df_no['filiale_baeckerei'].isin(train_indices)]\n",
    "val_df_no = df_no[df_no['filiale_baeckerei'].isin(val_indices)]\n",
    "test_df_no = df_no[df_no['filiale_baeckerei'].isin(test_indices)]"
   ]
  },
  {
   "cell_type": "code",
   "execution_count": 6,
   "id": "799fbc77",
   "metadata": {},
   "outputs": [
    {
     "name": "stderr",
     "output_type": "stream",
     "text": [
      "C:\\Users\\aaron\\AppData\\Local\\Temp\\ipykernel_7284\\2157330253.py:1: SettingWithCopyWarning: \n",
      "A value is trying to be set on a copy of a slice from a DataFrame.\n",
      "Try using .loc[row_indexer,col_indexer] = value instead\n",
      "\n",
      "See the caveats in the documentation: https://pandas.pydata.org/pandas-docs/stable/user_guide/indexing.html#returning-a-view-versus-a-copy\n",
      "  test_df_no['month'] = pd.to_datetime(test_df_no['date']).dt.strftime('%m.%Y')\n"
     ]
    }
   ],
   "source": [
    "test_df_no['month'] = pd.to_datetime(test_df_no['date']).dt.strftime('%m.%Y')\n",
    "\n",
    "# 2. Nun die DataFrames zusammenführen, basierend auf dem Monat (monat in test_df und month in df_inflation).\n",
    "test_df_no = pd.merge(test_df_no, df_inflation, left_on='month', right_on='month', how='left')\n",
    "\n",
    "# 3. Optional: Überflüssige Spalten entfernen, wie die 'month' Spalte aus df_inflation, da sie nicht mehr benötigt wird.\n",
    "test_df_no.drop(columns=['month'], inplace=True)\n"
   ]
  },
  {
   "cell_type": "code",
   "execution_count": 7,
   "id": "1de07e50",
   "metadata": {},
   "outputs": [],
   "source": [
    "test_df_no['revenue_prediction'] = test_df_no['revenuePY+2'] + (test_df_no['revenuePY+2'] * test_df_no['inflationrate'])"
   ]
  },
  {
   "cell_type": "code",
   "execution_count": 8,
   "id": "32545a2a",
   "metadata": {},
   "outputs": [
    {
     "name": "stdout",
     "output_type": "stream",
     "text": [
      "Mean Relative Error No Shift: 0.10295359114138308\n"
     ]
    }
   ],
   "source": [
    "test_df_no['relative_error'] = abs(test_df_no['revenue+2'] - test_df_no['revenue_prediction']) / test_df_no['revenue+2']\n",
    "\n",
    "# Berechnung des Mean Relative Errors\n",
    "mean_relative_error = test_df_no['relative_error'].mean()\n",
    "\n",
    "print(\"Mean Relative Error No Shift:\", mean_relative_error)"
   ]
  },
  {
   "cell_type": "markdown",
   "id": "08662321",
   "metadata": {},
   "source": [
    "**Public Shift**"
   ]
  },
  {
   "cell_type": "code",
   "execution_count": 9,
   "id": "0f196c97",
   "metadata": {},
   "outputs": [],
   "source": [
    "datei_pfad = '../data/public_shift_forecasting.csv'\n",
    "df_public = pd.read_csv(datei_pfad)\n",
    "df_public = df_public[['date', 'filiale_baeckerei', 'revenuePY+2', 'revenue+2']]"
   ]
  },
  {
   "cell_type": "code",
   "execution_count": 10,
   "id": "c00fbb0d",
   "metadata": {},
   "outputs": [],
   "source": [
    "# Erstellen der Test-, Train- und Validation-Sets durch Filtern\n",
    "train_df_public = df_public[df_public['filiale_baeckerei'].isin(train_indices)]\n",
    "val_df_public = df_public[df_public['filiale_baeckerei'].isin(val_indices)]\n",
    "test_df_public = df_public[df_public['filiale_baeckerei'].isin(test_indices)]"
   ]
  },
  {
   "cell_type": "code",
   "execution_count": 11,
   "id": "e04b0e06",
   "metadata": {},
   "outputs": [
    {
     "name": "stderr",
     "output_type": "stream",
     "text": [
      "C:\\Users\\aaron\\AppData\\Local\\Temp\\ipykernel_7284\\126963486.py:1: SettingWithCopyWarning: \n",
      "A value is trying to be set on a copy of a slice from a DataFrame.\n",
      "Try using .loc[row_indexer,col_indexer] = value instead\n",
      "\n",
      "See the caveats in the documentation: https://pandas.pydata.org/pandas-docs/stable/user_guide/indexing.html#returning-a-view-versus-a-copy\n",
      "  test_df_public['month'] = pd.to_datetime(test_df_public['date']).dt.strftime('%m.%Y')\n"
     ]
    }
   ],
   "source": [
    "test_df_public['month'] = pd.to_datetime(test_df_public['date']).dt.strftime('%m.%Y')\n",
    "\n",
    "# 2. Nun die DataFrames zusammenführen, basierend auf dem Monat (monat in test_df und month in df_inflation).\n",
    "test_df_public = pd.merge(test_df_public, df_inflation, left_on='month', right_on='month', how='left')\n",
    "\n",
    "# 3. Optional: Überflüssige Spalten entfernen, wie die 'month' Spalte aus df_inflation, da sie nicht mehr benötigt wird.\n",
    "test_df_public.drop(columns=['month'], inplace=True)\n"
   ]
  },
  {
   "cell_type": "code",
   "execution_count": 12,
   "id": "0411ef74",
   "metadata": {},
   "outputs": [
    {
     "name": "stdout",
     "output_type": "stream",
     "text": [
      "Mean Relative Error Public Shift: 0.09325696242239524\n"
     ]
    }
   ],
   "source": [
    "test_df_public['revenue_prediction'] = test_df_public['revenuePY+2'] + (test_df_public['revenuePY+2'] * test_df_public['inflationrate'])\n",
    "test_df_public['relative_error'] = abs(test_df_public['revenue+2'] - test_df_public['revenue_prediction']) / test_df_public['revenue+2']\n",
    "\n",
    "# Berechnung des Mean Relative Errors\n",
    "mean_relative_error = test_df_public['relative_error'].mean()\n",
    "\n",
    "print(\"Mean Relative Error Public Shift:\", mean_relative_error)"
   ]
  },
  {
   "cell_type": "markdown",
   "id": "c17fe495",
   "metadata": {},
   "source": [
    "**School Shift**"
   ]
  },
  {
   "cell_type": "code",
   "execution_count": 13,
   "id": "3aed8c15",
   "metadata": {},
   "outputs": [],
   "source": [
    "datei_pfad = '../data/school_shift_forecasting.csv'\n",
    "df_school = pd.read_csv(datei_pfad)\n",
    "df_school = df_school[['date', 'filiale_baeckerei', 'revenuePY+2', 'revenue+2']]"
   ]
  },
  {
   "cell_type": "code",
   "execution_count": 14,
   "id": "78353f0f",
   "metadata": {},
   "outputs": [],
   "source": [
    "# Erstellen der Test-, Train- und Validation-Sets durch Filtern\n",
    "train_df_school = df_school[df_school['filiale_baeckerei'].isin(train_indices)]\n",
    "val_df_school = df_school[df_school['filiale_baeckerei'].isin(val_indices)]\n",
    "test_df_school = df_school[df_school['filiale_baeckerei'].isin(test_indices)]"
   ]
  },
  {
   "cell_type": "code",
   "execution_count": 15,
   "id": "1c6d1268",
   "metadata": {},
   "outputs": [
    {
     "name": "stderr",
     "output_type": "stream",
     "text": [
      "C:\\Users\\aaron\\AppData\\Local\\Temp\\ipykernel_7284\\1109717628.py:1: SettingWithCopyWarning: \n",
      "A value is trying to be set on a copy of a slice from a DataFrame.\n",
      "Try using .loc[row_indexer,col_indexer] = value instead\n",
      "\n",
      "See the caveats in the documentation: https://pandas.pydata.org/pandas-docs/stable/user_guide/indexing.html#returning-a-view-versus-a-copy\n",
      "  test_df_school['month'] = pd.to_datetime(test_df_school['date']).dt.strftime('%m.%Y')\n"
     ]
    }
   ],
   "source": [
    "test_df_school['month'] = pd.to_datetime(test_df_school['date']).dt.strftime('%m.%Y')\n",
    "\n",
    "# 2. Nun die DataFrames zusammenführen, basierend auf dem Monat (monat in test_df und month in df_inflation).\n",
    "test_df_school = pd.merge(test_df_school, df_inflation, left_on='month', right_on='month', how='left')\n",
    "\n",
    "# 3. Optional: Überflüssige Spalten entfernen, wie die 'month' Spalte aus df_inflation, da sie nicht mehr benötigt wird.\n",
    "test_df_school.drop(columns=['month'], inplace=True)"
   ]
  },
  {
   "cell_type": "code",
   "execution_count": 16,
   "id": "beaa033b",
   "metadata": {
    "scrolled": true
   },
   "outputs": [
    {
     "name": "stdout",
     "output_type": "stream",
     "text": [
      "Mean Relative Error School Shift: 0.09760035960278703\n"
     ]
    }
   ],
   "source": [
    "test_df_school['revenue_prediction'] = test_df_school['revenuePY+2'] + (test_df_school['revenuePY+2'] * test_df_school['inflationrate'])\n",
    "test_df_school['relative_error'] = abs(test_df_school['revenue+2'] - test_df_school['revenue_prediction']) / test_df_school['revenue+2']\n",
    "\n",
    "# Berechnung des Mean Relative Errors\n",
    "mean_relative_error = test_df_school['relative_error'].mean()\n",
    "\n",
    "print(\"Mean Relative Error School Shift:\", mean_relative_error)"
   ]
  },
  {
   "cell_type": "code",
   "execution_count": null,
   "id": "eb5f96f0",
   "metadata": {},
   "outputs": [],
   "source": []
  },
  {
   "cell_type": "code",
   "execution_count": null,
   "id": "a4a02684",
   "metadata": {},
   "outputs": [],
   "source": []
  },
  {
   "cell_type": "code",
   "execution_count": null,
   "id": "6281fecc",
   "metadata": {},
   "outputs": [],
   "source": []
  }
 ],
 "metadata": {
  "kernelspec": {
   "display_name": "Python 3 (ipykernel)",
   "language": "python",
   "name": "python3"
  },
  "language_info": {
   "codemirror_mode": {
    "name": "ipython",
    "version": 3
   },
   "file_extension": ".py",
   "mimetype": "text/x-python",
   "name": "python",
   "nbconvert_exporter": "python",
   "pygments_lexer": "ipython3",
   "version": "3.10.13"
  }
 },
 "nbformat": 4,
 "nbformat_minor": 5
}
