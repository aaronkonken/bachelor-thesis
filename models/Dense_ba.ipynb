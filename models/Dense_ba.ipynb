{
 "cells": [
  {
   "cell_type": "code",
   "execution_count": 1,
   "id": "13bfc70d",
   "metadata": {},
   "outputs": [],
   "source": [
    "import pandas as pd\n",
    "import numpy as np\n",
    "from tensorflow.keras.callbacks import TensorBoard\n",
    "from tensorflow.keras.models import Model\n",
    "from tensorflow.keras.layers import Input, Dense, Flatten, concatenate\n",
    "from tensorflow.keras.optimizers import Adam\n",
    "from tensorflow.keras.callbacks import EarlyStopping\n",
    "import datetime\n",
    "from itertools import product\n",
    "\n",
    "from sklearn.preprocessing import MinMaxScaler\n",
    "from sklearn.model_selection import train_test_split"
   ]
  },
  {
   "cell_type": "markdown",
   "id": "458d4f73",
   "metadata": {},
   "source": [
    "**Tensorboard und Funktionen**"
   ]
  },
  {
   "cell_type": "code",
   "execution_count": 2,
   "id": "9e3d4ac3",
   "metadata": {},
   "outputs": [],
   "source": [
    "log_dir_model_no = \"logs/fit/model_no/\" + datetime.datetime.now().strftime(\"%Y%m%d-%H%M%S\")\n",
    "log_dir_model_public = \"logs/fit/model_public/\" + datetime.datetime.now().strftime(\"%Y%m%d-%H%M%S\")\n",
    "log_dir_model_school = \"logs/fit/model_school/\" + datetime.datetime.now().strftime(\"%Y%m%d-%H%M%S\")\n",
    "\n",
    "# Erstellen Sie einen TensorBoard-Callback\n",
    "tensorboard_callback_model_no = TensorBoard(log_dir=log_dir_model_no, histogram_freq=1)\n",
    "tensorboard_callback_model_public = TensorBoard(log_dir=log_dir_model_public, histogram_freq=1)\n",
    "tensorboard_callback_model_school = TensorBoard(log_dir=log_dir_model_school, histogram_freq=1)"
   ]
  },
  {
   "cell_type": "code",
   "execution_count": 3,
   "id": "2d00fa91",
   "metadata": {},
   "outputs": [],
   "source": [
    "def calculate_mmad_values(column):\n",
    "    \n",
    "    median = column.median()\n",
    "    mad = np.median(np.abs(column - median))\n",
    "    return median, mad"
   ]
  },
  {
   "cell_type": "code",
   "execution_count": 4,
   "id": "33a23e27",
   "metadata": {},
   "outputs": [],
   "source": [
    "def mmad_denormalize(normalized_value, median, mad):\n",
    "    return normalized_value * mad + median"
   ]
  },
  {
   "cell_type": "code",
   "execution_count": 5,
   "id": "47fa6483",
   "metadata": {},
   "outputs": [],
   "source": [
    "def preprocessing(df):\n",
    "    features = ['revenue', 'revenuePY', 'revenue-1', 'revenue-2', 'revenue-3', 'revenuePY-1', 'revenuePY-2', 'revenuePY-3', 'revenuePY+1', 'revenuePY+2', 'revenue+2']\n",
    "\n",
    "    median, mad = calculate_mmad_values(df['revenue'])\n",
    "    \n",
    "    # Globale Normalisierung durchführen\n",
    "    for feature in features:\n",
    "        df[feature] = (df[feature] - median) / mad\n",
    "    \n",
    "          \n",
    "          \n",
    "    #Input Daten\n",
    "    X_revenue = df[['revenue-3', 'revenue-2', 'revenue-1', 'revenue', 'filiale_baeckerei']]\n",
    "    X_revenuePY = df[['revenuePY-3', 'revenuePY-2', 'revenuePY-1', 'revenuePY', 'revenuePY+1', 'revenuePY+2', 'filiale_baeckerei']]\n",
    "    X_holidays = df[['carnival', 'easter', 'ascension_day', 'whitsunday', 'christmas', 'new_year', 'filiale_baeckerei']]\n",
    "    Y = df[['revenue+2', 'filiale_baeckerei']]  # Zielvariable\n",
    "\n",
    "    return X_revenue, X_revenuePY, X_holidays, Y, median, mad"
   ]
  },
  {
   "cell_type": "code",
   "execution_count": 6,
   "id": "5f721f06",
   "metadata": {},
   "outputs": [],
   "source": [
    "def compute_split_indices(df):\n",
    "    \"\"\"\n",
    "    Diese Funktion berechnet einmal die Split-Indizes basierend auf der Spalte 'filiale_baeckerei'.\n",
    "    \"\"\"\n",
    "    # 1. Extrahiere die einzigartigen Kombinationen aus 'filiale_baeckerei'\n",
    "    unique_combinations = df['filiale_baeckerei'].unique()\n",
    "\n",
    "    # 2. Teile die Kombinationen in 70% Training, 15% Validierung und 15% Test auf\n",
    "    train_combinations, test_combinations = train_test_split(unique_combinations, test_size=0.30, random_state=42)  # 70% Training, 30% Test+Val\n",
    "    val_combinations, test_combinations = train_test_split(test_combinations, test_size=0.5, random_state=42)  # 50% der 30% für Val/Test\n",
    "    \n",
    "    return train_combinations, val_combinations, test_combinations\n"
   ]
  },
  {
   "cell_type": "code",
   "execution_count": 7,
   "id": "831adb10",
   "metadata": {},
   "outputs": [],
   "source": [
    "def apply_split(X_revenue, X_revenuePY, X_holidays, Y, train_indices, val_indices, test_indices):\n",
    "    \"\"\"\n",
    "    Diese Funktion wendet die Split-Indizes auf die jeweiligen Datensets an und formatiert sie entsprechend.\n",
    "    Zunächst wird der Index der DataFrames synchronisiert, um sicherzustellen, dass die Reihenfolge stimmt.\n",
    "    \"\"\"\n",
    "    train_indices = X_revenue['filiale_baeckerei'].isin(train_combinations)\n",
    "    val_indices = X_revenue['filiale_baeckerei'].isin(val_combinations)\n",
    "    test_indices = X_revenue['filiale_baeckerei'].isin(test_combinations)\n",
    "    \n",
    "    # Synchronisiere die Indizes der DataFrames, um sicherzustellen, dass sie übereinstimmen\n",
    "    X_revenue = X_revenue.reset_index(drop=True)\n",
    "    X_revenuePY = X_revenuePY.reset_index(drop=True)\n",
    "    X_holidays = X_holidays.reset_index(drop=True)\n",
    "    Y = Y.reset_index(drop=True)\n",
    "\n",
    "    # Extrahiere Trainings-, Validierungs- und Testsets mithilfe der Indizes und wende .loc an\n",
    "    X_revenue_train = X_revenue.loc[train_indices].drop(columns=['filiale_baeckerei']).values.reshape(-1, 4, 1)\n",
    "    X_revenuePY_train = X_revenuePY.loc[train_indices].drop(columns=['filiale_baeckerei']).values.reshape(-1, 6, 1)\n",
    "    X_holidays_train = X_holidays.loc[train_indices].drop(columns=['filiale_baeckerei']).values.reshape(-1, 6, 1)\n",
    "    Y_train = Y.loc[train_indices].drop(columns=['filiale_baeckerei']).values  # Eindimensionales Ziel (Y)\n",
    "    Y_train = Y_train.flatten()\n",
    "\n",
    "    X_revenue_val = X_revenue.loc[val_indices].drop(columns=['filiale_baeckerei']).values.reshape(-1, 4, 1)\n",
    "    X_revenuePY_val = X_revenuePY.loc[val_indices].drop(columns=['filiale_baeckerei']).values.reshape(-1, 6, 1)\n",
    "    X_holidays_val = X_holidays.loc[val_indices].drop(columns=['filiale_baeckerei']).values.reshape(-1, 6, 1)\n",
    "    Y_val = Y.loc[val_indices].drop(columns=['filiale_baeckerei']).values  # Eindimensionales Ziel (Y)\n",
    "    Y_val = Y_val.flatten()\n",
    "\n",
    "    X_revenue_test = X_revenue.loc[test_indices].drop(columns=['filiale_baeckerei']).values.reshape(-1, 4, 1)\n",
    "    X_revenuePY_test = X_revenuePY.loc[test_indices].drop(columns=['filiale_baeckerei']).values.reshape(-1, 6, 1)\n",
    "    X_holidays_test = X_holidays.loc[test_indices].drop(columns=['filiale_baeckerei']).values.reshape(-1, 6, 1)\n",
    "    Y_test = Y.loc[test_indices].drop(columns=['filiale_baeckerei']).values  # Eindimensionales Ziel (Y)\n",
    "    Y_test = Y_test.flatten()\n",
    "    \n",
    "    # Verifizierung der Größen der Splits\n",
    "    print(\"Trainingsdaten:\")\n",
    "    print(\"X_revenue_train:\", X_revenue_train.shape)\n",
    "    print(\"X_revenuePY_train:\", X_revenuePY_train.shape)\n",
    "    print(\"X_holidays_train:\", X_holidays_train.shape)\n",
    "    print(\"Y_train:\", Y_train.shape)\n",
    "\n",
    "    print(\"\\nValidierungsdaten:\")\n",
    "    print(\"X_revenue_val:\", X_revenue_val.shape)\n",
    "    print(\"X_revenuePY_val:\", X_revenuePY_val.shape)\n",
    "    print(\"X_holidays_val:\", X_holidays_val.shape)\n",
    "    print(\"Y_val:\", Y_val.shape)\n",
    "\n",
    "    print(\"\\nTestdaten:\")\n",
    "    print(\"X_revenue_test:\", X_revenue_test.shape)\n",
    "    print(\"X_revenuePY_test:\", X_revenuePY_test.shape)\n",
    "    print(\"X_holidays_test:\", X_holidays_test.shape)\n",
    "    print(\"Y_test:\", Y_test.shape)\n",
    "\n",
    "    return (X_revenue_train, X_revenuePY_train, X_holidays_train, Y_train, \n",
    "            X_revenue_val, X_revenuePY_val, X_holidays_val, Y_val, \n",
    "            X_revenue_test, X_revenuePY_test, X_holidays_test, Y_test)"
   ]
  },
  {
   "cell_type": "code",
   "execution_count": 8,
   "id": "8d5a38f8",
   "metadata": {},
   "outputs": [],
   "source": [
    "# Deine Modell-Definition als Funktion\n",
    "def build_model(num_layers, neurons_per_layer, learning_rate):\n",
    "    # Inputs\n",
    "    input_revenue = Input(shape=(4, 1), name='input_current_year_revenue')\n",
    "    input_revenuePY = Input(shape=(6, 1), name='input_previous_year_revenue')\n",
    "    input_holidays = Input(shape=(6, 1), name='input_public_holidays')\n",
    "\n",
    "    # Flatten-Schichten für die Sequencen\n",
    "    flat_revenue = Flatten(name='flatten_current_year_revenue')(input_revenue)\n",
    "    flat_revenuePY = Flatten(name='flatten_previous_year_revenue')(input_revenuePY)\n",
    "    flat_holidays = Flatten(name='flatten_public_holidays')(input_holidays)\n",
    "\n",
    "    # Zusammenführen der Outputs durch ein Concatenate-Layer\n",
    "    concat = concatenate([flat_revenue, flat_revenuePY, flat_holidays], name='concat_layer')\n",
    "\n",
    "    # Anzahl der Layer (1 bis 4) und Neuronen pro Layer (4, 8, 12, 16, 20)\n",
    "    x = concat\n",
    "    for i in range(num_layers):\n",
    "        x = Dense(neurons_per_layer, activation='relu', name=f'dense_layer_{i+1}')(x)\n",
    "\n",
    "    # Dense Layer für die Vorhersage\n",
    "    output = Dense(1, name='output_layer')(x)\n",
    "\n",
    "    # Modell erstellen\n",
    "    model = Model(inputs=[input_revenue, input_revenuePY, input_holidays], outputs=output)\n",
    "\n",
    "    # Kompilieren des Modells\n",
    "    model.compile(optimizer=Adam(learning_rate=learning_rate),\n",
    "                  loss='mean_squared_error',\n",
    "                  metrics=['mae'])  # MAE wird als Metrik verwendet\n",
    "\n",
    "    return model"
   ]
  },
  {
   "cell_type": "code",
   "execution_count": 9,
   "id": "7e943383",
   "metadata": {},
   "outputs": [],
   "source": [
    "def Hyperparamteroptimization(X_revenue_train, X_revenuePY_train, X_holidays_train, Y_train, \n",
    "                              X_revenue_val, X_revenuePY_val, X_holidays_val, Y_val):\n",
    "    # Definiere alle möglichen Werte für die Hyperparameter\n",
    "    num_layers_options = [1,2,3,4]  # Anzahl der Schichten\n",
    "    neurons_per_layer_options = [10,20,30,40]  # Neuronen pro Schicht\n",
    "    learning_rate_options = [0.01, 0.001, 0.0001]  # Lernrate\n",
    "    batch_size_options = [16, 32, 64, 128]  # Batchgrößen\n",
    "\n",
    "    # Erstelle alle Kombinationen der Hyperparameter\n",
    "    combinations = list(product(num_layers_options, neurons_per_layer_options, \n",
    "                                learning_rate_options, batch_size_options))\n",
    "    \n",
    "    # Anzahl der Kombinationen für Fortschrittsanzeige\n",
    "    total_combinations = len(combinations)\n",
    "\n",
    "    # Manuelle Schleife über alle Kombinationen\n",
    "    best_mae = float('inf')\n",
    "    best_combination = None\n",
    "\n",
    "    # Fortschrittszähler\n",
    "    for idx, (num_layers, neurons_per_layer, learning_rate, batch_size) in enumerate(combinations):\n",
    "        # Anzeige des Fortschritts\n",
    "        print(f\"Testing combination {idx + 1}/{total_combinations}: Layers={num_layers}, Neurons={neurons_per_layer}, LR={learning_rate}, Batch={batch_size}\")\n",
    "\n",
    "        # Baue das Modell mit der aktuellen Kombination\n",
    "        model = build_model(num_layers, neurons_per_layer, learning_rate)\n",
    "\n",
    "        # Trainiere das Modell\n",
    "        history = model.fit(\n",
    "            [X_revenue_train, X_revenuePY_train, X_holidays_train], Y_train,\n",
    "            epochs=150,  # Anzahl der Epochen\n",
    "            batch_size=batch_size,\n",
    "            validation_data=([X_revenue_val, X_revenuePY_val, X_holidays_val], Y_val),\n",
    "            callbacks=[EarlyStopping(monitor='val_mae', patience=10)]\n",
    "        )\n",
    "\n",
    "        # Überprüfe den besten Validation MAE\n",
    "        val_mae = min(history.history['val_mae'])\n",
    "        if val_mae < best_mae:\n",
    "            best_mae = val_mae\n",
    "            best_combination = (num_layers, neurons_per_layer, learning_rate, batch_size)\n",
    "\n",
    "        # Anzeige des aktuellen besten MAE\n",
    "        print(f\"Current best MAE: {best_mae}\")\n",
    "\n",
    "    # Beste Kombination ausgeben\n",
    "    print(f\"Beste Kombination: Layers={best_combination[0]}, Neurons={best_combination[1]}, LR={best_combination[2]}, Batch={best_combination[3]}\")\n",
    "    print(f\"Bester Validation MAE: {best_mae}\")\n",
    "\n",
    "    return best_combination[0], best_combination[1], best_combination[2], best_combination[3]"
   ]
  },
  {
   "cell_type": "markdown",
   "id": "28527bc7",
   "metadata": {},
   "source": [
    " # **Dense with no shift**"
   ]
  },
  {
   "cell_type": "code",
   "execution_count": 10,
   "id": "43896b2c",
   "metadata": {},
   "outputs": [],
   "source": [
    "datei_pfad = '../data/no_shift_forecasting.csv'\n",
    "df_no = pd.read_csv(datei_pfad)"
   ]
  },
  {
   "cell_type": "code",
   "execution_count": 11,
   "id": "0cc42bda",
   "metadata": {},
   "outputs": [],
   "source": [
    "X_revenue_no, X_revenuePY_no, X_holidays_no, Y_no, median_no, mad_no = preprocessing(df_no)"
   ]
  },
  {
   "cell_type": "code",
   "execution_count": 12,
   "id": "9c85b07f",
   "metadata": {},
   "outputs": [],
   "source": [
    "train_combinations = np.load('train_combinations.npy', allow_pickle=True)\n",
    "val_combinations = np.load('val_combinations.npy', allow_pickle=True)\n",
    "test_combinations = np.load('test_combinations.npy', allow_pickle=True)"
   ]
  },
  {
   "cell_type": "code",
   "execution_count": 13,
   "id": "7591702d",
   "metadata": {},
   "outputs": [
    {
     "name": "stdout",
     "output_type": "stream",
     "text": [
      "Trainingsdaten:\n",
      "X_revenue_train: (35375, 4, 1)\n",
      "X_revenuePY_train: (35375, 6, 1)\n",
      "X_holidays_train: (35375, 6, 1)\n",
      "Y_train: (35375,)\n",
      "\n",
      "Validierungsdaten:\n",
      "X_revenue_val: (7860, 4, 1)\n",
      "X_revenuePY_val: (7860, 6, 1)\n",
      "X_holidays_val: (7860, 6, 1)\n",
      "Y_val: (7860,)\n",
      "\n",
      "Testdaten:\n",
      "X_revenue_test: (7790, 4, 1)\n",
      "X_revenuePY_test: (7790, 6, 1)\n",
      "X_holidays_test: (7790, 6, 1)\n",
      "Y_test: (7790,)\n"
     ]
    }
   ],
   "source": [
    "X_revenue_train_no, X_revenuePY_train_no, X_holidays_train_no, Y_train_no, X_revenue_val_no, X_revenuePY_val_no, X_holidays_val_no, Y_val_no, X_revenue_test_no, X_revenuePY_test_no, X_holidays_test_no, Y_test_no = apply_split(X_revenue_no, X_revenuePY_no, X_holidays_no, Y_no, train_combinations, val_combinations, test_combinations)"
   ]
  },
  {
   "cell_type": "markdown",
   "id": "9274e722",
   "metadata": {},
   "source": [
    "**Find best Model**"
   ]
  },
  {
   "cell_type": "code",
   "execution_count": 14,
   "id": "cd0f63e8",
   "metadata": {
    "scrolled": true
   },
   "outputs": [
    {
     "name": "stdout",
     "output_type": "stream",
     "text": [
      "Testing combination 1/192: Layers=1, Neurons=10, LR=0.01, Batch=16\n",
      "Epoch 1/150\n",
      "2211/2211 [==============================] - 5s 2ms/step - loss: 0.1170 - mae: 0.2328 - val_loss: 0.1011 - val_mae: 0.2337\n",
      "Epoch 2/150\n",
      " 323/2211 [===>..........................] - ETA: 2s - loss: 0.0975 - mae: 0.2199"
     ]
    },
    {
     "ename": "KeyboardInterrupt",
     "evalue": "",
     "output_type": "error",
     "traceback": [
      "\u001b[1;31m---------------------------------------------------------------------------\u001b[0m",
      "\u001b[1;31mKeyboardInterrupt\u001b[0m                         Traceback (most recent call last)",
      "Cell \u001b[1;32mIn[14], line 1\u001b[0m\n\u001b[1;32m----> 1\u001b[0m num_layers_no, num_neurons_no, learning_rate_no, batch_size_no \u001b[38;5;241m=\u001b[39m \u001b[43mHyperparamteroptimization\u001b[49m\u001b[43m(\u001b[49m\u001b[43mX_revenue_train_no\u001b[49m\u001b[43m,\u001b[49m\u001b[43m \u001b[49m\u001b[43mX_revenuePY_train_no\u001b[49m\u001b[43m,\u001b[49m\u001b[43m \u001b[49m\u001b[43mX_holidays_train_no\u001b[49m\u001b[43m,\u001b[49m\u001b[43m \u001b[49m\u001b[43mY_train_no\u001b[49m\u001b[43m,\u001b[49m\u001b[43m \u001b[49m\u001b[43mX_revenue_val_no\u001b[49m\u001b[43m,\u001b[49m\u001b[43m \u001b[49m\u001b[43mX_revenuePY_val_no\u001b[49m\u001b[43m,\u001b[49m\u001b[43m \u001b[49m\u001b[43mX_holidays_val_no\u001b[49m\u001b[43m,\u001b[49m\u001b[43m \u001b[49m\u001b[43mY_val_no\u001b[49m\u001b[43m)\u001b[49m\n",
      "Cell \u001b[1;32mIn[9], line 29\u001b[0m, in \u001b[0;36mHyperparamteroptimization\u001b[1;34m(X_revenue_train, X_revenuePY_train, X_holidays_train, Y_train, X_revenue_val, X_revenuePY_val, X_holidays_val, Y_val)\u001b[0m\n\u001b[0;32m     26\u001b[0m model \u001b[38;5;241m=\u001b[39m build_model(num_layers, neurons_per_layer, learning_rate)\n\u001b[0;32m     28\u001b[0m \u001b[38;5;66;03m# Trainiere das Modell\u001b[39;00m\n\u001b[1;32m---> 29\u001b[0m history \u001b[38;5;241m=\u001b[39m \u001b[43mmodel\u001b[49m\u001b[38;5;241;43m.\u001b[39;49m\u001b[43mfit\u001b[49m\u001b[43m(\u001b[49m\n\u001b[0;32m     30\u001b[0m \u001b[43m    \u001b[49m\u001b[43m[\u001b[49m\u001b[43mX_revenue_train\u001b[49m\u001b[43m,\u001b[49m\u001b[43m \u001b[49m\u001b[43mX_revenuePY_train\u001b[49m\u001b[43m,\u001b[49m\u001b[43m \u001b[49m\u001b[43mX_holidays_train\u001b[49m\u001b[43m]\u001b[49m\u001b[43m,\u001b[49m\u001b[43m \u001b[49m\u001b[43mY_train\u001b[49m\u001b[43m,\u001b[49m\n\u001b[0;32m     31\u001b[0m \u001b[43m    \u001b[49m\u001b[43mepochs\u001b[49m\u001b[38;5;241;43m=\u001b[39;49m\u001b[38;5;241;43m150\u001b[39;49m\u001b[43m,\u001b[49m\u001b[43m  \u001b[49m\u001b[38;5;66;43;03m# Anzahl der Epochen\u001b[39;49;00m\n\u001b[0;32m     32\u001b[0m \u001b[43m    \u001b[49m\u001b[43mbatch_size\u001b[49m\u001b[38;5;241;43m=\u001b[39;49m\u001b[43mbatch_size\u001b[49m\u001b[43m,\u001b[49m\n\u001b[0;32m     33\u001b[0m \u001b[43m    \u001b[49m\u001b[43mvalidation_data\u001b[49m\u001b[38;5;241;43m=\u001b[39;49m\u001b[43m(\u001b[49m\u001b[43m[\u001b[49m\u001b[43mX_revenue_val\u001b[49m\u001b[43m,\u001b[49m\u001b[43m \u001b[49m\u001b[43mX_revenuePY_val\u001b[49m\u001b[43m,\u001b[49m\u001b[43m \u001b[49m\u001b[43mX_holidays_val\u001b[49m\u001b[43m]\u001b[49m\u001b[43m,\u001b[49m\u001b[43m \u001b[49m\u001b[43mY_val\u001b[49m\u001b[43m)\u001b[49m\u001b[43m,\u001b[49m\n\u001b[0;32m     34\u001b[0m \u001b[43m    \u001b[49m\u001b[43mcallbacks\u001b[49m\u001b[38;5;241;43m=\u001b[39;49m\u001b[43m[\u001b[49m\u001b[43mEarlyStopping\u001b[49m\u001b[43m(\u001b[49m\u001b[43mmonitor\u001b[49m\u001b[38;5;241;43m=\u001b[39;49m\u001b[38;5;124;43m'\u001b[39;49m\u001b[38;5;124;43mval_mae\u001b[39;49m\u001b[38;5;124;43m'\u001b[39;49m\u001b[43m,\u001b[49m\u001b[43m \u001b[49m\u001b[43mpatience\u001b[49m\u001b[38;5;241;43m=\u001b[39;49m\u001b[38;5;241;43m10\u001b[39;49m\u001b[43m)\u001b[49m\u001b[43m]\u001b[49m\n\u001b[0;32m     35\u001b[0m \u001b[43m\u001b[49m\u001b[43m)\u001b[49m\n\u001b[0;32m     37\u001b[0m \u001b[38;5;66;03m# Überprüfe den besten Validation MAE\u001b[39;00m\n\u001b[0;32m     38\u001b[0m val_mae \u001b[38;5;241m=\u001b[39m \u001b[38;5;28mmin\u001b[39m(history\u001b[38;5;241m.\u001b[39mhistory[\u001b[38;5;124m'\u001b[39m\u001b[38;5;124mval_mae\u001b[39m\u001b[38;5;124m'\u001b[39m])\n",
      "File \u001b[1;32m~\\miniconda3\\envs\\iannwtf\\lib\\site-packages\\keras\\utils\\traceback_utils.py:65\u001b[0m, in \u001b[0;36mfilter_traceback.<locals>.error_handler\u001b[1;34m(*args, **kwargs)\u001b[0m\n\u001b[0;32m     63\u001b[0m filtered_tb \u001b[38;5;241m=\u001b[39m \u001b[38;5;28;01mNone\u001b[39;00m\n\u001b[0;32m     64\u001b[0m \u001b[38;5;28;01mtry\u001b[39;00m:\n\u001b[1;32m---> 65\u001b[0m     \u001b[38;5;28;01mreturn\u001b[39;00m fn(\u001b[38;5;241m*\u001b[39margs, \u001b[38;5;241m*\u001b[39m\u001b[38;5;241m*\u001b[39mkwargs)\n\u001b[0;32m     66\u001b[0m \u001b[38;5;28;01mexcept\u001b[39;00m \u001b[38;5;167;01mException\u001b[39;00m \u001b[38;5;28;01mas\u001b[39;00m e:\n\u001b[0;32m     67\u001b[0m     filtered_tb \u001b[38;5;241m=\u001b[39m _process_traceback_frames(e\u001b[38;5;241m.\u001b[39m__traceback__)\n",
      "File \u001b[1;32m~\\miniconda3\\envs\\iannwtf\\lib\\site-packages\\keras\\engine\\training.py:1564\u001b[0m, in \u001b[0;36mModel.fit\u001b[1;34m(self, x, y, batch_size, epochs, verbose, callbacks, validation_split, validation_data, shuffle, class_weight, sample_weight, initial_epoch, steps_per_epoch, validation_steps, validation_batch_size, validation_freq, max_queue_size, workers, use_multiprocessing)\u001b[0m\n\u001b[0;32m   1556\u001b[0m \u001b[38;5;28;01mwith\u001b[39;00m tf\u001b[38;5;241m.\u001b[39mprofiler\u001b[38;5;241m.\u001b[39mexperimental\u001b[38;5;241m.\u001b[39mTrace(\n\u001b[0;32m   1557\u001b[0m     \u001b[38;5;124m\"\u001b[39m\u001b[38;5;124mtrain\u001b[39m\u001b[38;5;124m\"\u001b[39m,\n\u001b[0;32m   1558\u001b[0m     epoch_num\u001b[38;5;241m=\u001b[39mepoch,\n\u001b[1;32m   (...)\u001b[0m\n\u001b[0;32m   1561\u001b[0m     _r\u001b[38;5;241m=\u001b[39m\u001b[38;5;241m1\u001b[39m,\n\u001b[0;32m   1562\u001b[0m ):\n\u001b[0;32m   1563\u001b[0m     callbacks\u001b[38;5;241m.\u001b[39mon_train_batch_begin(step)\n\u001b[1;32m-> 1564\u001b[0m     tmp_logs \u001b[38;5;241m=\u001b[39m \u001b[38;5;28;43mself\u001b[39;49m\u001b[38;5;241;43m.\u001b[39;49m\u001b[43mtrain_function\u001b[49m\u001b[43m(\u001b[49m\u001b[43miterator\u001b[49m\u001b[43m)\u001b[49m\n\u001b[0;32m   1565\u001b[0m     \u001b[38;5;28;01mif\u001b[39;00m data_handler\u001b[38;5;241m.\u001b[39mshould_sync:\n\u001b[0;32m   1566\u001b[0m         context\u001b[38;5;241m.\u001b[39masync_wait()\n",
      "File \u001b[1;32m~\\miniconda3\\envs\\iannwtf\\lib\\site-packages\\tensorflow\\python\\util\\traceback_utils.py:150\u001b[0m, in \u001b[0;36mfilter_traceback.<locals>.error_handler\u001b[1;34m(*args, **kwargs)\u001b[0m\n\u001b[0;32m    148\u001b[0m filtered_tb \u001b[38;5;241m=\u001b[39m \u001b[38;5;28;01mNone\u001b[39;00m\n\u001b[0;32m    149\u001b[0m \u001b[38;5;28;01mtry\u001b[39;00m:\n\u001b[1;32m--> 150\u001b[0m   \u001b[38;5;28;01mreturn\u001b[39;00m fn(\u001b[38;5;241m*\u001b[39margs, \u001b[38;5;241m*\u001b[39m\u001b[38;5;241m*\u001b[39mkwargs)\n\u001b[0;32m    151\u001b[0m \u001b[38;5;28;01mexcept\u001b[39;00m \u001b[38;5;167;01mException\u001b[39;00m \u001b[38;5;28;01mas\u001b[39;00m e:\n\u001b[0;32m    152\u001b[0m   filtered_tb \u001b[38;5;241m=\u001b[39m _process_traceback_frames(e\u001b[38;5;241m.\u001b[39m__traceback__)\n",
      "File \u001b[1;32m~\\miniconda3\\envs\\iannwtf\\lib\\site-packages\\tensorflow\\python\\eager\\def_function.py:915\u001b[0m, in \u001b[0;36mFunction.__call__\u001b[1;34m(self, *args, **kwds)\u001b[0m\n\u001b[0;32m    912\u001b[0m compiler \u001b[38;5;241m=\u001b[39m \u001b[38;5;124m\"\u001b[39m\u001b[38;5;124mxla\u001b[39m\u001b[38;5;124m\"\u001b[39m \u001b[38;5;28;01mif\u001b[39;00m \u001b[38;5;28mself\u001b[39m\u001b[38;5;241m.\u001b[39m_jit_compile \u001b[38;5;28;01melse\u001b[39;00m \u001b[38;5;124m\"\u001b[39m\u001b[38;5;124mnonXla\u001b[39m\u001b[38;5;124m\"\u001b[39m\n\u001b[0;32m    914\u001b[0m \u001b[38;5;28;01mwith\u001b[39;00m OptionalXlaContext(\u001b[38;5;28mself\u001b[39m\u001b[38;5;241m.\u001b[39m_jit_compile):\n\u001b[1;32m--> 915\u001b[0m   result \u001b[38;5;241m=\u001b[39m \u001b[38;5;28mself\u001b[39m\u001b[38;5;241m.\u001b[39m_call(\u001b[38;5;241m*\u001b[39margs, \u001b[38;5;241m*\u001b[39m\u001b[38;5;241m*\u001b[39mkwds)\n\u001b[0;32m    917\u001b[0m new_tracing_count \u001b[38;5;241m=\u001b[39m \u001b[38;5;28mself\u001b[39m\u001b[38;5;241m.\u001b[39mexperimental_get_tracing_count()\n\u001b[0;32m    918\u001b[0m without_tracing \u001b[38;5;241m=\u001b[39m (tracing_count \u001b[38;5;241m==\u001b[39m new_tracing_count)\n",
      "File \u001b[1;32m~\\miniconda3\\envs\\iannwtf\\lib\\site-packages\\tensorflow\\python\\eager\\def_function.py:947\u001b[0m, in \u001b[0;36mFunction._call\u001b[1;34m(self, *args, **kwds)\u001b[0m\n\u001b[0;32m    944\u001b[0m   \u001b[38;5;28mself\u001b[39m\u001b[38;5;241m.\u001b[39m_lock\u001b[38;5;241m.\u001b[39mrelease()\n\u001b[0;32m    945\u001b[0m   \u001b[38;5;66;03m# In this case we have created variables on the first call, so we run the\u001b[39;00m\n\u001b[0;32m    946\u001b[0m   \u001b[38;5;66;03m# defunned version which is guaranteed to never create variables.\u001b[39;00m\n\u001b[1;32m--> 947\u001b[0m   \u001b[38;5;28;01mreturn\u001b[39;00m \u001b[38;5;28mself\u001b[39m\u001b[38;5;241m.\u001b[39m_stateless_fn(\u001b[38;5;241m*\u001b[39margs, \u001b[38;5;241m*\u001b[39m\u001b[38;5;241m*\u001b[39mkwds)  \u001b[38;5;66;03m# pylint: disable=not-callable\u001b[39;00m\n\u001b[0;32m    948\u001b[0m \u001b[38;5;28;01melif\u001b[39;00m \u001b[38;5;28mself\u001b[39m\u001b[38;5;241m.\u001b[39m_stateful_fn \u001b[38;5;129;01mis\u001b[39;00m \u001b[38;5;129;01mnot\u001b[39;00m \u001b[38;5;28;01mNone\u001b[39;00m:\n\u001b[0;32m    949\u001b[0m   \u001b[38;5;66;03m# Release the lock early so that multiple threads can perform the call\u001b[39;00m\n\u001b[0;32m    950\u001b[0m   \u001b[38;5;66;03m# in parallel.\u001b[39;00m\n\u001b[0;32m    951\u001b[0m   \u001b[38;5;28mself\u001b[39m\u001b[38;5;241m.\u001b[39m_lock\u001b[38;5;241m.\u001b[39mrelease()\n",
      "File \u001b[1;32m~\\miniconda3\\envs\\iannwtf\\lib\\site-packages\\tensorflow\\python\\eager\\function.py:2496\u001b[0m, in \u001b[0;36mFunction.__call__\u001b[1;34m(self, *args, **kwargs)\u001b[0m\n\u001b[0;32m   2493\u001b[0m \u001b[38;5;28;01mwith\u001b[39;00m \u001b[38;5;28mself\u001b[39m\u001b[38;5;241m.\u001b[39m_lock:\n\u001b[0;32m   2494\u001b[0m   (graph_function,\n\u001b[0;32m   2495\u001b[0m    filtered_flat_args) \u001b[38;5;241m=\u001b[39m \u001b[38;5;28mself\u001b[39m\u001b[38;5;241m.\u001b[39m_maybe_define_function(args, kwargs)\n\u001b[1;32m-> 2496\u001b[0m \u001b[38;5;28;01mreturn\u001b[39;00m \u001b[43mgraph_function\u001b[49m\u001b[38;5;241;43m.\u001b[39;49m\u001b[43m_call_flat\u001b[49m\u001b[43m(\u001b[49m\n\u001b[0;32m   2497\u001b[0m \u001b[43m    \u001b[49m\u001b[43mfiltered_flat_args\u001b[49m\u001b[43m,\u001b[49m\u001b[43m \u001b[49m\u001b[43mcaptured_inputs\u001b[49m\u001b[38;5;241;43m=\u001b[39;49m\u001b[43mgraph_function\u001b[49m\u001b[38;5;241;43m.\u001b[39;49m\u001b[43mcaptured_inputs\u001b[49m\u001b[43m)\u001b[49m\n",
      "File \u001b[1;32m~\\miniconda3\\envs\\iannwtf\\lib\\site-packages\\tensorflow\\python\\eager\\function.py:1862\u001b[0m, in \u001b[0;36mConcreteFunction._call_flat\u001b[1;34m(self, args, captured_inputs, cancellation_manager)\u001b[0m\n\u001b[0;32m   1858\u001b[0m possible_gradient_type \u001b[38;5;241m=\u001b[39m gradients_util\u001b[38;5;241m.\u001b[39mPossibleTapeGradientTypes(args)\n\u001b[0;32m   1859\u001b[0m \u001b[38;5;28;01mif\u001b[39;00m (possible_gradient_type \u001b[38;5;241m==\u001b[39m gradients_util\u001b[38;5;241m.\u001b[39mPOSSIBLE_GRADIENT_TYPES_NONE\n\u001b[0;32m   1860\u001b[0m     \u001b[38;5;129;01mand\u001b[39;00m executing_eagerly):\n\u001b[0;32m   1861\u001b[0m   \u001b[38;5;66;03m# No tape is watching; skip to running the function.\u001b[39;00m\n\u001b[1;32m-> 1862\u001b[0m   \u001b[38;5;28;01mreturn\u001b[39;00m \u001b[38;5;28mself\u001b[39m\u001b[38;5;241m.\u001b[39m_build_call_outputs(\u001b[38;5;28;43mself\u001b[39;49m\u001b[38;5;241;43m.\u001b[39;49m\u001b[43m_inference_function\u001b[49m\u001b[38;5;241;43m.\u001b[39;49m\u001b[43mcall\u001b[49m\u001b[43m(\u001b[49m\n\u001b[0;32m   1863\u001b[0m \u001b[43m      \u001b[49m\u001b[43mctx\u001b[49m\u001b[43m,\u001b[49m\u001b[43m \u001b[49m\u001b[43margs\u001b[49m\u001b[43m,\u001b[49m\u001b[43m \u001b[49m\u001b[43mcancellation_manager\u001b[49m\u001b[38;5;241;43m=\u001b[39;49m\u001b[43mcancellation_manager\u001b[49m\u001b[43m)\u001b[49m)\n\u001b[0;32m   1864\u001b[0m forward_backward \u001b[38;5;241m=\u001b[39m \u001b[38;5;28mself\u001b[39m\u001b[38;5;241m.\u001b[39m_select_forward_and_backward_functions(\n\u001b[0;32m   1865\u001b[0m     args,\n\u001b[0;32m   1866\u001b[0m     possible_gradient_type,\n\u001b[0;32m   1867\u001b[0m     executing_eagerly)\n\u001b[0;32m   1868\u001b[0m forward_function, args_with_tangents \u001b[38;5;241m=\u001b[39m forward_backward\u001b[38;5;241m.\u001b[39mforward()\n",
      "File \u001b[1;32m~\\miniconda3\\envs\\iannwtf\\lib\\site-packages\\tensorflow\\python\\eager\\function.py:499\u001b[0m, in \u001b[0;36m_EagerDefinedFunction.call\u001b[1;34m(self, ctx, args, cancellation_manager)\u001b[0m\n\u001b[0;32m    497\u001b[0m \u001b[38;5;28;01mwith\u001b[39;00m _InterpolateFunctionError(\u001b[38;5;28mself\u001b[39m):\n\u001b[0;32m    498\u001b[0m   \u001b[38;5;28;01mif\u001b[39;00m cancellation_manager \u001b[38;5;129;01mis\u001b[39;00m \u001b[38;5;28;01mNone\u001b[39;00m:\n\u001b[1;32m--> 499\u001b[0m     outputs \u001b[38;5;241m=\u001b[39m \u001b[43mexecute\u001b[49m\u001b[38;5;241;43m.\u001b[39;49m\u001b[43mexecute\u001b[49m\u001b[43m(\u001b[49m\n\u001b[0;32m    500\u001b[0m \u001b[43m        \u001b[49m\u001b[38;5;28;43mstr\u001b[39;49m\u001b[43m(\u001b[49m\u001b[38;5;28;43mself\u001b[39;49m\u001b[38;5;241;43m.\u001b[39;49m\u001b[43msignature\u001b[49m\u001b[38;5;241;43m.\u001b[39;49m\u001b[43mname\u001b[49m\u001b[43m)\u001b[49m\u001b[43m,\u001b[49m\n\u001b[0;32m    501\u001b[0m \u001b[43m        \u001b[49m\u001b[43mnum_outputs\u001b[49m\u001b[38;5;241;43m=\u001b[39;49m\u001b[38;5;28;43mself\u001b[39;49m\u001b[38;5;241;43m.\u001b[39;49m\u001b[43m_num_outputs\u001b[49m\u001b[43m,\u001b[49m\n\u001b[0;32m    502\u001b[0m \u001b[43m        \u001b[49m\u001b[43minputs\u001b[49m\u001b[38;5;241;43m=\u001b[39;49m\u001b[43margs\u001b[49m\u001b[43m,\u001b[49m\n\u001b[0;32m    503\u001b[0m \u001b[43m        \u001b[49m\u001b[43mattrs\u001b[49m\u001b[38;5;241;43m=\u001b[39;49m\u001b[43mattrs\u001b[49m\u001b[43m,\u001b[49m\n\u001b[0;32m    504\u001b[0m \u001b[43m        \u001b[49m\u001b[43mctx\u001b[49m\u001b[38;5;241;43m=\u001b[39;49m\u001b[43mctx\u001b[49m\u001b[43m)\u001b[49m\n\u001b[0;32m    505\u001b[0m   \u001b[38;5;28;01melse\u001b[39;00m:\n\u001b[0;32m    506\u001b[0m     outputs \u001b[38;5;241m=\u001b[39m execute\u001b[38;5;241m.\u001b[39mexecute_with_cancellation(\n\u001b[0;32m    507\u001b[0m         \u001b[38;5;28mstr\u001b[39m(\u001b[38;5;28mself\u001b[39m\u001b[38;5;241m.\u001b[39msignature\u001b[38;5;241m.\u001b[39mname),\n\u001b[0;32m    508\u001b[0m         num_outputs\u001b[38;5;241m=\u001b[39m\u001b[38;5;28mself\u001b[39m\u001b[38;5;241m.\u001b[39m_num_outputs,\n\u001b[1;32m   (...)\u001b[0m\n\u001b[0;32m    511\u001b[0m         ctx\u001b[38;5;241m=\u001b[39mctx,\n\u001b[0;32m    512\u001b[0m         cancellation_manager\u001b[38;5;241m=\u001b[39mcancellation_manager)\n",
      "File \u001b[1;32m~\\miniconda3\\envs\\iannwtf\\lib\\site-packages\\tensorflow\\python\\eager\\execute.py:54\u001b[0m, in \u001b[0;36mquick_execute\u001b[1;34m(op_name, num_outputs, inputs, attrs, ctx, name)\u001b[0m\n\u001b[0;32m     52\u001b[0m \u001b[38;5;28;01mtry\u001b[39;00m:\n\u001b[0;32m     53\u001b[0m   ctx\u001b[38;5;241m.\u001b[39mensure_initialized()\n\u001b[1;32m---> 54\u001b[0m   tensors \u001b[38;5;241m=\u001b[39m \u001b[43mpywrap_tfe\u001b[49m\u001b[38;5;241;43m.\u001b[39;49m\u001b[43mTFE_Py_Execute\u001b[49m\u001b[43m(\u001b[49m\u001b[43mctx\u001b[49m\u001b[38;5;241;43m.\u001b[39;49m\u001b[43m_handle\u001b[49m\u001b[43m,\u001b[49m\u001b[43m \u001b[49m\u001b[43mdevice_name\u001b[49m\u001b[43m,\u001b[49m\u001b[43m \u001b[49m\u001b[43mop_name\u001b[49m\u001b[43m,\u001b[49m\n\u001b[0;32m     55\u001b[0m \u001b[43m                                      \u001b[49m\u001b[43minputs\u001b[49m\u001b[43m,\u001b[49m\u001b[43m \u001b[49m\u001b[43mattrs\u001b[49m\u001b[43m,\u001b[49m\u001b[43m \u001b[49m\u001b[43mnum_outputs\u001b[49m\u001b[43m)\u001b[49m\n\u001b[0;32m     56\u001b[0m \u001b[38;5;28;01mexcept\u001b[39;00m core\u001b[38;5;241m.\u001b[39m_NotOkStatusException \u001b[38;5;28;01mas\u001b[39;00m e:\n\u001b[0;32m     57\u001b[0m   \u001b[38;5;28;01mif\u001b[39;00m name \u001b[38;5;129;01mis\u001b[39;00m \u001b[38;5;129;01mnot\u001b[39;00m \u001b[38;5;28;01mNone\u001b[39;00m:\n",
      "\u001b[1;31mKeyboardInterrupt\u001b[0m: "
     ]
    }
   ],
   "source": [
    "num_layers_no, num_neurons_no, learning_rate_no, batch_size_no = Hyperparamteroptimization(X_revenue_train_no, X_revenuePY_train_no, X_holidays_train_no, Y_train_no, X_revenue_val_no, X_revenuePY_val_no, X_holidays_val_no, Y_val_no)"
   ]
  },
  {
   "cell_type": "code",
   "execution_count": null,
   "id": "d83c03d8",
   "metadata": {},
   "outputs": [],
   "source": [
    "# Print der Werte der Hyperparameter\n",
    "print(f\"Number of Layers (No): {num_layers_no}\")\n",
    "print(f\"Number of Neurons per Layer (No): {num_neurons_no}\")\n",
    "print(f\"Learning Rate (No): {learning_rate_no}\")\n",
    "print(f\"Batch Size (No): {batch_size_no}\")"
   ]
  },
  {
   "cell_type": "markdown",
   "id": "6da98a00",
   "metadata": {},
   "source": [
    "**train final model**"
   ]
  },
  {
   "cell_type": "code",
   "execution_count": null,
   "id": "93b00a32",
   "metadata": {},
   "outputs": [],
   "source": [
    "# Baue das Modell mit den besten Hyperparametern\n",
    "model_dense_no = build_model(num_layers_no, num_neurons_no, learning_rate_no)\n",
    "\n",
    "# Trainiere das Modell\n",
    "history = model_dense_no.fit(\n",
    "    [X_revenue_train_no, X_revenuePY_train_no, X_holidays_train_no], Y_train_no,\n",
    "    epochs=150,  # Anzahl der Epochen\n",
    "    batch_size=batch_size_no,\n",
    "    validation_data=([X_revenue_val_no, X_revenuePY_val_no, X_holidays_val_no], Y_val_no),\n",
    "    callbacks=[EarlyStopping(monitor='val_mae', patience=15),\n",
    "              tensorboard_callback_model_no]\n",
    ")"
   ]
  },
  {
   "cell_type": "markdown",
   "id": "9143134e",
   "metadata": {},
   "source": [
    "**Mean Relativ Error Testset**"
   ]
  },
  {
   "cell_type": "code",
   "execution_count": null,
   "id": "036ca546",
   "metadata": {},
   "outputs": [],
   "source": [
    "# Vorhersagen für die Testdaten\n",
    "y_pred_no = model_dense_no.predict([X_revenue_test_no, X_revenuePY_test_no, X_holidays_test_no])\n",
    "y_pred_no = y_pred_no.flatten()\n",
    "original_Y_no = mmad_denormalize(Y_test_no, median_no, mad_no)\n",
    "original_Y_pred_no = mmad_denormalize(y_pred_no, median_no, mad_no)"
   ]
  },
  {
   "cell_type": "code",
   "execution_count": null,
   "id": "644f14ec",
   "metadata": {},
   "outputs": [],
   "source": [
    "# Berechnung des relativen Fehlers\n",
    "abs_erros_no = original_Y_no - original_Y_pred_no\n",
    "relative_errors_no = (original_Y_no - original_Y_pred_no) / original_Y_no\n",
    "\n",
    "# Berechnung des durchschnittlichen relativen Fehlers\n",
    "mean_relative_error_no = np.mean(np.abs(relative_errors_no))\n",
    "print(f'Mean Relative Error No Shift Testset: {mean_relative_error_no}')"
   ]
  },
  {
   "cell_type": "markdown",
   "id": "cfa2ac53",
   "metadata": {},
   "source": [
    "**Mean Relativ Error Trainset**"
   ]
  },
  {
   "cell_type": "code",
   "execution_count": null,
   "id": "db07bf87",
   "metadata": {},
   "outputs": [],
   "source": [
    "# Vorhersagen für die Testdaten\n",
    "y_pred_no = model_dense_no.predict([X_revenue_train_no, X_revenuePY_train_no, X_holidays_train_no])\n",
    "y_pred_no = y_pred_no.flatten()\n",
    "original_Y_no = mmad_denormalize(Y_train_no, median_no, mad_no)\n",
    "original_Y_pred_no = mmad_denormalize(y_pred_no, median_no, mad_no)"
   ]
  },
  {
   "cell_type": "code",
   "execution_count": null,
   "id": "33def3b8",
   "metadata": {},
   "outputs": [],
   "source": [
    "# Berechnung des relativen Fehlers\n",
    "abs_erros_no = original_Y_no - original_Y_pred_no\n",
    "relative_errors_no = (original_Y_no - original_Y_pred_no) / original_Y_no\n",
    "\n",
    "# Berechnung des durchschnittlichen relativen Fehlers\n",
    "mean_relative_error_no = np.mean(np.abs(relative_errors_no))\n",
    "print(f'Mean Relative Error No Shift Trainset: {mean_relative_error_no}')"
   ]
  },
  {
   "cell_type": "markdown",
   "id": "e62e5adf",
   "metadata": {},
   "source": [
    "# **Dense with public shift**"
   ]
  },
  {
   "cell_type": "code",
   "execution_count": null,
   "id": "d82e4c84",
   "metadata": {},
   "outputs": [],
   "source": [
    "datei_pfad = '../data/public_shift_forecasting.csv'\n",
    "df_public = pd.read_csv(datei_pfad)"
   ]
  },
  {
   "cell_type": "code",
   "execution_count": null,
   "id": "fc691694",
   "metadata": {},
   "outputs": [],
   "source": [
    "X_revenue_public, X_revenuePY_public, X_holidays_public, Y_public, median_public, mad_public = preprocessing(df_public)"
   ]
  },
  {
   "cell_type": "code",
   "execution_count": null,
   "id": "bd2e0db7",
   "metadata": {},
   "outputs": [],
   "source": [
    "X_revenue_train_public, X_revenuePY_train_public, X_holidays_train_public, Y_train_public, X_revenue_val_public, X_revenuePY_val_public, X_holidays_val_public, Y_val_public, X_revenue_test_public, X_revenuePY_test_public, X_holidays_test_public, Y_test_public = apply_split(X_revenue_public, X_revenuePY_public, X_holidays_public, Y_public, train_combinations, val_combinations, test_combinations)"
   ]
  },
  {
   "cell_type": "code",
   "execution_count": null,
   "id": "73e9eea9",
   "metadata": {},
   "outputs": [],
   "source": [
    "num_layers_public, num_neurons_public, learning_rate_public, batch_size_public = Hyperparamteroptimization(X_revenue_train_public, X_revenuePY_train_public, X_holidays_train_public, Y_train_public, X_revenue_val_public, X_revenuePY_val_public, X_holidays_val_public, Y_val_public)"
   ]
  },
  {
   "cell_type": "code",
   "execution_count": null,
   "id": "bc096065",
   "metadata": {},
   "outputs": [],
   "source": [
    "num_layers_public = 2\n",
    "num_neurons_public = 40\n",
    "learning_rate_public = 0.001\n",
    "batch_size_public = 64"
   ]
  },
  {
   "cell_type": "code",
   "execution_count": null,
   "id": "37faf0b2",
   "metadata": {},
   "outputs": [],
   "source": [
    "# Print der Werte der Hyperparameter\n",
    "print(f\"Number of Layers (Public): {num_layers_public}\")\n",
    "print(f\"Number of Neurons per Layer (Public): {num_neurons_public}\")\n",
    "print(f\"Learning Rate (Public): {learning_rate_public}\")\n",
    "print(f\"Batch Size (Public): {batch_size_public}\")"
   ]
  },
  {
   "cell_type": "code",
   "execution_count": null,
   "id": "49ae50b6",
   "metadata": {},
   "outputs": [],
   "source": [
    "\n",
    "# Bauemodel_dense_public das Modell mit den besten Hyperparametern\n",
    "model_dense_public = build_model(num_layers_public, num_neurons_public, learning_rate_public)\n",
    "\n",
    "# Trainiere das Modell\n",
    "history = model_dense_public.fit(\n",
    "    [X_revenue_train_public, X_revenuePY_train_public, X_holidays_train_public], Y_train_public,\n",
    "    epochs=150,  # Anzahl der Epochen\n",
    "    batch_size=batch_size_public,\n",
    "    validation_data=([X_revenue_val_public, X_revenuePY_val_public, X_holidays_val_public], Y_val_public),\n",
    "    callbacks=[EarlyStopping(monitor='val_mae', patience=15),\n",
    "               tensorboard_callback_model_public]\n",
    ")"
   ]
  },
  {
   "cell_type": "markdown",
   "id": "95a2fa9b",
   "metadata": {},
   "source": [
    "**Testset**"
   ]
  },
  {
   "cell_type": "code",
   "execution_count": null,
   "id": "513e1932",
   "metadata": {},
   "outputs": [],
   "source": [
    "# Vorhersagen für die Testdaten\n",
    "y_pred_public = model_dense_public.predict([X_revenue_test_public, X_revenuePY_test_public, X_holidays_test_public])\n",
    "y_pred_public = y_pred_public.flatten()\n",
    "original_Y_public = mmad_denormalize(Y_test_public, median_public, mad_public)\n",
    "original_Y_public = original_Y_public.flatten()\n",
    "original_Y_pred_public = mmad_denormalize(y_pred_public, median_public, mad_public)"
   ]
  },
  {
   "cell_type": "code",
   "execution_count": null,
   "id": "8955e403",
   "metadata": {},
   "outputs": [],
   "source": [
    "# Berechnung des relativen Fehlers\n",
    "abs_erros_public = original_Y_public - original_Y_pred_public\n",
    "relative_errors_public = (original_Y_public - original_Y_pred_public) / original_Y_public\n",
    "\n",
    "# Berechnung des durchschnittlichen relativen Fehlers\n",
    "mean_relative_error_public = np.mean(np.abs(relative_errors_public))\n",
    "print(f'Mean Relative Error for public Shift Testset: {mean_relative_error_public}')"
   ]
  },
  {
   "cell_type": "markdown",
   "id": "c070aa16",
   "metadata": {},
   "source": [
    "**Trainset**"
   ]
  },
  {
   "cell_type": "code",
   "execution_count": null,
   "id": "e1d68983",
   "metadata": {},
   "outputs": [],
   "source": [
    "# Vorhersagen für die Testdaten\n",
    "y_pred_public = model_dense_public.predict([X_revenue_train_public, X_revenuePY_train_public, X_holidays_train_public])\n",
    "y_pred_public = y_pred_public.flatten()\n",
    "original_Y_public = mmad_denormalize(Y_train_public, median_public, mad_public)\n",
    "original_Y_public = original_Y_public.flatten()\n",
    "original_Y_pred_public = mmad_denormalize(y_pred_public, median_public, mad_public)"
   ]
  },
  {
   "cell_type": "code",
   "execution_count": null,
   "id": "fc2a38d5",
   "metadata": {},
   "outputs": [],
   "source": [
    "# Berechnung des relativen Fehlers\n",
    "abs_erros_public = original_Y_public - original_Y_pred_public\n",
    "relative_errors_public = (original_Y_public - original_Y_pred_public) / original_Y_public\n",
    "\n",
    "# Berechnung des durchschnittlichen relativen Fehlers\n",
    "mean_relative_error_public = np.mean(np.abs(relative_errors_public))\n",
    "print(f'Mean Relative Error for public Shift Testset: {mean_relative_error_public}')"
   ]
  },
  {
   "cell_type": "markdown",
   "id": "8a81ed1b",
   "metadata": {},
   "source": [
    "# **Dense with school shift**"
   ]
  },
  {
   "cell_type": "code",
   "execution_count": null,
   "id": "76b6685b",
   "metadata": {},
   "outputs": [],
   "source": [
    "datei_pfad = '../data/school_shift_forecasting.csv'\n",
    "df_school = pd.read_csv(datei_pfad)"
   ]
  },
  {
   "cell_type": "code",
   "execution_count": null,
   "id": "bcdfa910",
   "metadata": {},
   "outputs": [],
   "source": [
    "X_revenue_school, X_revenuePY_school, X_holidays_school, Y_school, median_school, mad_school = preprocessing(df_school)"
   ]
  },
  {
   "cell_type": "code",
   "execution_count": null,
   "id": "f70e6ed4",
   "metadata": {},
   "outputs": [],
   "source": [
    "X_revenue_train_school, X_revenuePY_train_school, X_holidays_train_school, Y_train_school, X_revenue_val_school, X_revenuePY_val_school, X_holidays_val_school, Y_val_school, X_revenue_test_school, X_revenuePY_test_school, X_holidays_test_school, Y_test_school = apply_split(X_revenue_school, X_revenuePY_school, X_holidays_school, Y_school, train_combinations, val_combinations, test_combinations)"
   ]
  },
  {
   "cell_type": "code",
   "execution_count": null,
   "id": "b51bb036",
   "metadata": {},
   "outputs": [],
   "source": [
    "num_layers_school, num_neurons_school, learning_rate_school, batch_size_school = Hyperparamteroptimization(X_revenue_train_school, X_revenuePY_train_school, X_holidays_train_school, Y_train_school, X_revenue_val_school, X_revenuePY_val_school, X_holidays_val_school, Y_val_school, )"
   ]
  },
  {
   "cell_type": "code",
   "execution_count": null,
   "id": "1dbef3e7",
   "metadata": {},
   "outputs": [],
   "source": [
    "# Print der Werte der Hyperparameter\n",
    "print(f\"Number of Layers (School): {num_layers_school}\")\n",
    "print(f\"Number of Neurons per Layer (School): {num_neurons_school}\")\n",
    "print(f\"Learning Rate (School): {learning_rate_school}\")\n",
    "print(f\"Batch Size (School): {batch_size_school}\")"
   ]
  },
  {
   "cell_type": "code",
   "execution_count": null,
   "id": "76be09e0",
   "metadata": {},
   "outputs": [],
   "source": [
    "# Zusammenführen von Trainings- und Validierungsdaten\n",
    "X_revenue_combined_school = np.concatenate([X_revenue_train_school, X_revenue_val_school], axis=0)\n",
    "X_revenuePY_combined_school = np.concatenate([X_revenuePY_train_school, X_revenuePY_val_school], axis=0)\n",
    "X_holidays_combined_school = np.concatenate([X_holidays_train_school, X_holidays_val_school], axis=0)\n",
    "Y_combined_school = np.concatenate([Y_train_school, Y_val_school], axis=0)\n",
    "\n",
    "# Baue das Modell mit den besten Hyperparametern\n",
    "model_dense_school = build_model(num_layers_school, num_neurons_school, learning_rate_school)\n",
    "\n",
    "# Trainiere das Modell\n",
    "history = model_dense_school.fit(\n",
    "    [X_revenue_train_school, X_revenuePY_train_school, X_holidays_train_school], Y_train_school,\n",
    "    epochs=150,  # Anzahl der Epochen\n",
    "    batch_size=batch_size_school,\n",
    "    validation_data=([X_revenue_val_school, X_revenuePY_val_school, X_holidays_val_school], Y_val_school),\n",
    "    callbacks=[EarlyStopping(monitor='val_mae', patience=15),\n",
    "              tensorboard_callback_model_school]\n",
    ")"
   ]
  },
  {
   "cell_type": "code",
   "execution_count": null,
   "id": "1b62b638",
   "metadata": {},
   "outputs": [],
   "source": [
    "# Vorhersagen für die Testdaten\n",
    "y_pred_school = model_dense_school.predict([X_revenue_test_school, X_revenuePY_test_school, X_holidays_test_school])\n",
    "y_pred_school = y_pred_school.flatten()\n",
    "original_Y_school = mmad_denormalize(Y_test_school, median_school, mad_school)\n",
    "original_Y_pred_school = mmad_denormalize(y_pred_school, median_school, mad_school)"
   ]
  },
  {
   "cell_type": "code",
   "execution_count": null,
   "id": "d0e07ab4",
   "metadata": {},
   "outputs": [],
   "source": [
    "# Berechnung des relativen Fehlers\n",
    "abs_erros_school = original_Y_school - original_Y_pred_school\n",
    "relative_errors_school = (original_Y_school - original_Y_pred_school) / original_Y_school\n",
    "\n",
    "# Berechnung des durchschnittlichen relativen Fehlers\n",
    "mean_relative_error_school = np.mean(np.abs(relative_errors_school))\n",
    "print(f'Mean Relative Error School Shift Testset: {mean_relative_error_school}')"
   ]
  },
  {
   "cell_type": "code",
   "execution_count": null,
   "id": "646c40ec",
   "metadata": {},
   "outputs": [],
   "source": [
    "# Vorhersagen für die Testdaten\n",
    "y_pred_school = model_dense_school.predict([X_revenue_train_school, X_revenuePY_train_school, X_holidays_train_school])\n",
    "y_pred_school = y_pred_school.flatten()\n",
    "original_Y_school = mmad_denormalize(Y_train_school, median_school, mad_school)\n",
    "original_Y_pred_school = mmad_denormalize(y_pred_school, median_school, mad_school)"
   ]
  },
  {
   "cell_type": "code",
   "execution_count": null,
   "id": "173eb664",
   "metadata": {},
   "outputs": [],
   "source": [
    "# Berechnung des relativen Fehlers\n",
    "abs_erros_school = original_Y_school - original_Y_pred_school\n",
    "relative_errors_school = (original_Y_school - original_Y_pred_school) / original_Y_school\n",
    "\n",
    "# Berechnung des durchschnittlichen relativen Fehlers\n",
    "mean_relative_error_school = np.mean(np.abs(relative_errors_school))\n",
    "print(f'Mean Relative Error School Shift Trainset: {mean_relative_error_school}')"
   ]
  },
  {
   "cell_type": "markdown",
   "id": "6a7470bc",
   "metadata": {},
   "source": [
    "**Open Tensorboard**"
   ]
  },
  {
   "cell_type": "code",
   "execution_count": null,
   "id": "6c768562",
   "metadata": {},
   "outputs": [],
   "source": [
    "%load_ext tensorboard"
   ]
  },
  {
   "cell_type": "code",
   "execution_count": null,
   "id": "daf52c9e",
   "metadata": {},
   "outputs": [],
   "source": [
    "%tensorboard --logdir logs/fit"
   ]
  },
  {
   "cell_type": "code",
   "execution_count": null,
   "id": "8a7d1cb2",
   "metadata": {},
   "outputs": [],
   "source": []
  }
 ],
 "metadata": {
  "kernelspec": {
   "display_name": "Python 3 (ipykernel)",
   "language": "python",
   "name": "python3"
  },
  "language_info": {
   "codemirror_mode": {
    "name": "ipython",
    "version": 3
   },
   "file_extension": ".py",
   "mimetype": "text/x-python",
   "name": "python",
   "nbconvert_exporter": "python",
   "pygments_lexer": "ipython3",
   "version": "3.10.13"
  }
 },
 "nbformat": 4,
 "nbformat_minor": 5
}
